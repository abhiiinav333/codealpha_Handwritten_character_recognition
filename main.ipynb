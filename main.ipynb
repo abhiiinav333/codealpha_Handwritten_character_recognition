{
 "cells": [
  {
   "cell_type": "markdown",
   "id": "d4c5ba7c-ecd2-4e38-b1da-b03cf0df65ad",
   "metadata": {},
   "source": [
    "### Importing Libraries"
   ]
  },
  {
   "cell_type": "code",
   "execution_count": 1,
   "id": "2abdf4d4-8fbe-4262-b03a-6d19678d0507",
   "metadata": {},
   "outputs": [],
   "source": [
    "import pandas as pd\n",
    "import glob\n",
    "import cv2\n",
    "import numpy as np\n",
    "from sklearn.model_selection import train_test_split\n",
    "from sklearn.svm import SVC\n",
    "from sklearn.preprocessing import LabelEncoder\n",
    "import matplotlib.pyplot as plt\n",
    "import seaborn as sns"
   ]
  },
  {
   "cell_type": "markdown",
   "id": "b6d08d0a-8698-43c5-8ec1-8c9b1da41140",
   "metadata": {},
   "source": [
    "### Set path for images and the CSV file and load the .CSV file"
   ]
  },
  {
   "cell_type": "code",
   "execution_count": 2,
   "id": "244dfca4-e602-46dc-8f9f-a1454f06bb21",
   "metadata": {},
   "outputs": [
    {
     "name": "stdout",
     "output_type": "stream",
     "text": [
      "                image label\n",
      "0  Img/img001-001.png     0\n",
      "1  Img/img001-002.png     0\n",
      "2  Img/img001-003.png     0\n",
      "3  Img/img001-004.png     0\n",
      "4  Img/img001-005.png     0\n"
     ]
    }
   ],
   "source": [
    "image_paths = glob.glob(r'C:\\Users\\ABHI\\CodeAlpha Projects\\handwritten\\img\\*')  # Path for images\n",
    "df = pd.read_csv(\"english.csv\")   #CSV file\n",
    "print(df.head())"
   ]
  },
  {
   "cell_type": "markdown",
   "id": "b82f7028-7ad1-4446-91c5-7bc78d258953",
   "metadata": {},
   "source": [
    "### Sorting image paths and list labels"
   ]
  },
  {
   "cell_type": "code",
   "execution_count": 3,
   "id": "1bf321bf-9e80-46f1-97d6-5a67f93bad48",
   "metadata": {},
   "outputs": [],
   "source": [
    "image_paths = sorted(image_paths)\n",
    "labels = df['label'].tolist()"
   ]
  },
  {
   "cell_type": "markdown",
   "id": "fbe444a3-5038-4bd2-803d-e566e6115ee7",
   "metadata": {},
   "source": [
    "### Load, Read and preprocess images"
   ]
  },
  {
   "cell_type": "code",
   "execution_count": 4,
   "id": "6626cdf4-366f-44a6-af50-63e3eec6b90d",
   "metadata": {},
   "outputs": [],
   "source": [
    "image_size = (32, 32)  #Resize to 32x32px\n",
    "images = []\n",
    "for path in image_paths:\n",
    "    img = cv2.imread(path, cv2.IMREAD_GRAYSCALE)  \n",
    "    if img is not None:\n",
    "        img_resized = cv2.resize(img, image_size) \n",
    "        images.append(img_resized.flatten()) \n",
    "    else:\n",
    "        print(f\"Image not found or invalid: {path}\")"
   ]
  },
  {
   "cell_type": "markdown",
   "id": "80137fce-a05e-40e8-bbf9-bcc693baae2d",
   "metadata": {},
   "source": [
    "### Images and labels to numpy arrays"
   ]
  },
  {
   "cell_type": "code",
   "execution_count": 5,
   "id": "1bb87fd9-160e-421d-a6a9-83a2e81b9488",
   "metadata": {},
   "outputs": [
    {
     "name": "stdout",
     "output_type": "stream",
     "text": [
      "[[255 255 255 ... 255 255 255]\n",
      " [255 255 255 ... 255 255 255]\n",
      " [255 255 255 ... 255 255 255]\n",
      " ...\n",
      " [255 255 255 ... 255 255 255]\n",
      " [255 255 255 ... 255 255 255]\n",
      " [255 255 255 ... 255 255 255]] ['0' '0' '0' ... 'z' 'z' 'z']\n"
     ]
    }
   ],
   "source": [
    "X = np.array(images)\n",
    "y = np.array(labels)\n",
    "print(X,y)"
   ]
  },
  {
   "cell_type": "markdown",
   "id": "6ffccec8-3128-4790-b249-3655bb977e35",
   "metadata": {},
   "source": [
    "### Encode labels into integers"
   ]
  },
  {
   "cell_type": "code",
   "execution_count": 6,
   "id": "0c128350-f4c1-4248-a132-a888d4377e3e",
   "metadata": {},
   "outputs": [
    {
     "name": "stdout",
     "output_type": "stream",
     "text": [
      "[ 0  0  0 ... 61 61 61]\n"
     ]
    }
   ],
   "source": [
    "label_encoder = LabelEncoder()\n",
    "y_encoded = label_encoder.fit_transform(y)\n",
    "print(y_encoded)"
   ]
  },
  {
   "cell_type": "markdown",
   "id": "087d703b-27e6-4fcb-9e28-c9d9ae7ba8f3",
   "metadata": {},
   "source": [
    "### Split data, Tain SVM model and Make predictions"
   ]
  },
  {
   "cell_type": "code",
   "execution_count": 8,
   "id": "da084569-da3e-4347-a88e-0ae4c42dec4c",
   "metadata": {},
   "outputs": [],
   "source": [
    "X_train, X_test, y_train, y_test = train_test_split(X, y_encoded, test_size=0.2, random_state=42)\n",
    "svm_model = SVC(kernel='linear', random_state=42).fit(X_train, y_train)\n",
    "y_pred = svm_model.predict(X_test)"
   ]
  },
  {
   "cell_type": "markdown",
   "id": "f46246c4-8296-452f-81bb-5de1f415ed34",
   "metadata": {},
   "source": [
    "### Final Outcome with Predictions"
   ]
  },
  {
   "cell_type": "code",
   "execution_count": 12,
   "id": "c120b8ec-20fd-474f-8310-c2b8f657385f",
   "metadata": {},
   "outputs": [
    {
     "data": {
      "image/png": "[encoded data removed]",
      "text/plain": [
       "<Figure size 1500x1000 with 2 Axes>"
      ]
     },
     "metadata": {},
     "output_type": "display_data"
    }
   ],
   "source": [
    "import random\n",
    "random_indices = random.sample(range(len(X_test)), 2)  # Randomly select 2 indices\n",
    "\n",
    "plt.figure(figsize=(15, 10))\n",
    "for i, idx in enumerate(random_indices):\n",
    "    img = X_test[idx].reshape(image_size)  # Reshape back to the original image size\n",
    "    true_label = label_encoder.inverse_transform([y_test[idx]])[0]\n",
    "    predicted_label = label_encoder.inverse_transform([y_pred[idx]])[0]\n",
    "\n",
    "    plt.subplot(2, 3, i + 1)\n",
    "    plt.imshow(img, cmap='gray')\n",
    "    plt.title(f\"True: {true_label}, Predicted: {predicted_label}\")\n",
    "    plt.axis('off')\n",
    "\n",
    "plt.show()"
   ]
  },
  {
   "cell_type": "code",
   "execution_count": null,
   "id": "c4d31e60-ead4-466d-bf0f-7fef7f4c08ff",
   "metadata": {},
   "outputs": [],
   "source": []
  }
 ],
 "metadata": {
  "kernelspec": {
   "display_name": "Python 3 (ipykernel)",
   "language": "python",
   "name": "python3"
  },
  "language_info": {
   "codemirror_mode": {
    "name": "ipython",
    "version": 3
   },
   "file_extension": ".py",
   "mimetype": "text/x-python",
   "name": "python",
   "nbconvert_exporter": "python",
   "pygments_lexer": "ipython3",
   "version": "3.11.1"
  }
 },
 "nbformat": 4,
 "nbformat_minor": 5
}
